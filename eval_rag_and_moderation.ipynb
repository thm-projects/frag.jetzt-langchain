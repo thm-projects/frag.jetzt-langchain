{
 "cells": [
  {
   "cell_type": "markdown",
   "id": "8a038f80-493c-40f3-89fe-a6604d692c30",
   "metadata": {},
   "source": [
    "# Load environment"
   ]
  },
  {
   "cell_type": "code",
   "execution_count": 1,
   "id": "ca32e158-c4ec-4b61-b7c5-7e40f9d38970",
   "metadata": {},
   "outputs": [],
   "source": [
    "from langchain_openai import ChatOpenAI\n",
    "from langchain_openai import OpenAIEmbeddings\n",
    "\n",
    "from ragas.llms import LangchainLLMWrapper\n",
    "from ragas.embeddings import LangchainEmbeddingsWrapper\n",
    "\n",
    "api_key=\"sk....\"\n",
    "\n",
    "chat_model = ChatOpenAI(model=\"gpt-4o-mini\", api_key=api_key)\n",
    "evaluator_llm = LangchainLLMWrapper(chat_model)\n",
    "evaluator_embeddings = LangchainEmbeddingsWrapper(OpenAIEmbeddings(model=\"text-embedding-3-large\", api_key=api_key))"
   ]
  },
  {
   "cell_type": "code",
   "execution_count": null,
   "id": "3226c047-7c24-477e-a585-9e0fd4f50c9a",
   "metadata": {},
   "outputs": [],
   "source": [
    "!pip install langchain_chroma python-magic langchain_huggingface pypdf"
   ]
  },
  {
   "cell_type": "code",
   "execution_count": 2,
   "id": "e1eaf64d-d1e5-45e3-8884-d7e1571545e9",
   "metadata": {},
   "outputs": [
    {
     "name": "stderr",
     "output_type": "stream",
     "text": [
      "/home/ruben/anaconda3/envs/langchain-training/lib/python3.13/site-packages/torch/cuda/__init__.py:129: UserWarning: CUDA initialization: CUDA unknown error - this may be due to an incorrectly set up environment, e.g. changing env variable CUDA_VISIBLE_DEVICES after program start. Setting the available devices to be zero. (Triggered internally at ../c10/cuda/CUDAFunctions.cpp:108.)\n",
      "  return torch._C._cuda_getDeviceCount() > 0\n"
     ]
    }
   ],
   "source": [
    "# Setup temporary Chroma\n",
    "import chromadb\n",
    "import os\n",
    "from chromadb.config import Settings\n",
    "from langchain_chroma import Chroma\n",
    "from langchain_huggingface import HuggingFaceEmbeddings\n",
    "from app.ai_conversation.file_handling.vectorstore import set_chroma\n",
    "\n",
    "client = chromadb.HttpClient(\n",
    "    host=os.getenv(\"CHROMA_HOST\", \"localhost\"),\n",
    "    port=os.getenv(\"CHROMA_PORT\", \"6002\"),\n",
    "    settings=Settings(\n",
    "        chroma_client_auth_provider=\"chromadb.auth.token_authn.TokenAuthClientProvider\",\n",
    "        chroma_client_auth_credentials=os.getenv(\"CHROMA_TOKEN\", \"test-token\"),\n",
    "    ),\n",
    ")\n",
    "# Clean up, when last time it was used...\n",
    "client.delete_collection(\"test\")\n",
    "sentence_transformer_ef = HuggingFaceEmbeddings(model_name=\"sentence-transformers/all-MiniLM-L6-v2\")\n",
    "chroma = Chroma(\n",
    "    client=client,\n",
    "    collection_name=\"test\",\n",
    "    embedding_function=sentence_transformer_ef,\n",
    "    collection_metadata={\"hnsw:space\": \"cosine\"},\n",
    ")\n",
    "set_chroma(chroma)"
   ]
  },
  {
   "cell_type": "markdown",
   "id": "fabef1f8-c39a-4d22-b3ae-7cf65c21682f",
   "metadata": {},
   "source": [
    "## Insert a script (file/files)"
   ]
  },
  {
   "cell_type": "code",
   "execution_count": null,
   "id": "83d41b06-6715-4e9b-8431-f42fd25aba73",
   "metadata": {},
   "outputs": [],
   "source": [
    "!pip install git+https://github.com/brandonstarxel/chunking_evaluation.git"
   ]
  },
  {
   "cell_type": "code",
   "execution_count": 3,
   "id": "256cf914-716f-4cbd-bd15-9f86907cc843",
   "metadata": {},
   "outputs": [
    {
     "name": "stdout",
     "output_type": "stream",
     "text": [
      "Inserting 3219 documents for 6cd29c8a-823b-4b13-a8f6-9ca16cdea287 with custom path\n",
      "Uploaded 1 files, 296 docs\n"
     ]
    }
   ],
   "source": [
    "from app.ai_conversation.file_handling.vectorstore import import_to_vectorstore\n",
    "from app.ai_conversation.entities.uploaded_file_content import UploadedFileContent\n",
    "from uuid import UUID, uuid4\n",
    "import time\n",
    "\n",
    "paths = [\n",
    "    \"./eval/skript.pdf\"\n",
    "]\n",
    "\n",
    "files = []\n",
    "docs = []\n",
    "input_times = []\n",
    "for path in paths:\n",
    "    temp_file = UploadedFileContent(\n",
    "        id=uuid4(),\n",
    "        hash=\"irrelevant\",\n",
    "        file_ref=uuid4(),\n",
    "        unprocessed=True,\n",
    "    )\n",
    "    before = time.perf_counter()\n",
    "    res = await import_to_vectorstore(temp_file, custom_path=path)\n",
    "    after = time.perf_counter()\n",
    "    if type(res) == list:\n",
    "        files.append(temp_file)\n",
    "        docs.extend(res)\n",
    "        input_times.append(after - before)\n",
    "\n",
    "print(f\"Uploaded {len(files)} files, {len(docs)} docs\")"
   ]
  },
  {
   "cell_type": "code",
   "execution_count": 4,
   "id": "56eef3d0-e7ec-4455-a9ef-8b85ea9707c7",
   "metadata": {},
   "outputs": [
    {
     "name": "stdout",
     "output_type": "stream",
     "text": [
      "There are a total of 1570 chunks inside the vectorstore\n",
      "[330.7996016999823]\n"
     ]
    }
   ],
   "source": [
    "collection = client.get_collection(\"test\")\n",
    "print(f\"There are a total of {collection.count()} chunks inside the vectorstore\")\n",
    "print(input_times)"
   ]
  },
  {
   "cell_type": "markdown",
   "id": "2bfaa110-367c-4444-8ba9-4b0339795fcf",
   "metadata": {},
   "source": [
    "## Generate a test dataset"
   ]
  },
  {
   "cell_type": "code",
   "execution_count": null,
   "id": "1e30c654-9ac3-493f-aea0-8baa921fc2df",
   "metadata": {},
   "outputs": [],
   "source": [
    "!pip install rapidfuzz"
   ]
  },
  {
   "cell_type": "code",
   "execution_count": null,
   "id": "467d1ed7-4ebf-48ec-ab0d-c8c576c44c61",
   "metadata": {},
   "outputs": [],
   "source": [
    "from ragas.testset import TestsetGenerator\n",
    "generator = TestsetGenerator(llm=evaluator_llm, embedding_model=evaluator_embeddings)\n",
    "dataset = generator.generate_with_langchain_docs(docs, testset_size=150)"
   ]
  },
  {
   "cell_type": "markdown",
   "id": "719144d4-8bb6-4c3c-b7b2-796b219ec63b",
   "metadata": {},
   "source": [
    "## Save or load Dataset"
   ]
  },
  {
   "cell_type": "code",
   "execution_count": 5,
   "id": "b9a103fa-53e1-491d-9bda-4fdd2b7539c7",
   "metadata": {},
   "outputs": [
    {
     "data": {
      "text/html": [
       "<div>\n",
       "<style scoped>\n",
       "    .dataframe tbody tr th:only-of-type {\n",
       "        vertical-align: middle;\n",
       "    }\n",
       "\n",
       "    .dataframe tbody tr th {\n",
       "        vertical-align: top;\n",
       "    }\n",
       "\n",
       "    .dataframe thead th {\n",
       "        text-align: right;\n",
       "    }\n",
       "</style>\n",
       "<table border=\"1\" class=\"dataframe\">\n",
       "  <thead>\n",
       "    <tr style=\"text-align: right;\">\n",
       "      <th></th>\n",
       "      <th>user_input</th>\n",
       "      <th>reference_contexts</th>\n",
       "      <th>reference</th>\n",
       "      <th>synthesizer_name</th>\n",
       "    </tr>\n",
       "  </thead>\n",
       "  <tbody>\n",
       "    <tr>\n",
       "      <th>0</th>\n",
       "      <td>Was ist ein Bipolartransistor und warum ist es...</td>\n",
       "      <td>[Inhaltsverzeichnis 1 Geschichte der Informati...</td>\n",
       "      <td>Der Bipolartransistor ist ein Halbleiterbauele...</td>\n",
       "      <td>single_hop_specifc_query_synthesizer</td>\n",
       "    </tr>\n",
       "    <tr>\n",
       "      <th>1</th>\n",
       "      <td>What are the key historical developments in In...</td>\n",
       "      <td>[Inhaltsverzeichnis 1 Geschichte der Informati...</td>\n",
       "      <td>The key historical developments in Informatik ...</td>\n",
       "      <td>single_hop_specifc_query_synthesizer</td>\n",
       "    </tr>\n",
       "    <tr>\n",
       "      <th>2</th>\n",
       "      <td>What is the significance of the Internet in th...</td>\n",
       "      <td>[Inhaltsverzeichnis 1 Geschichte der Informati...</td>\n",
       "      <td>The Internet is a crucial topic in the history...</td>\n",
       "      <td>single_hop_specifc_query_synthesizer</td>\n",
       "    </tr>\n",
       "    <tr>\n",
       "      <th>3</th>\n",
       "      <td>Was ist Internet und warum wichtig?</td>\n",
       "      <td>[Inhaltsverzeichnis 1 Geschichte der Informati...</td>\n",
       "      <td>Im Kontext der Informatik ist das Internet ein...</td>\n",
       "      <td>single_hop_specifc_query_synthesizer</td>\n",
       "    </tr>\n",
       "    <tr>\n",
       "      <th>4</th>\n",
       "      <td>Was ist Analog- und Digitaltechnik?</td>\n",
       "      <td>[Inhaltsverzeichnis 1 Geschichte der Informati...</td>\n",
       "      <td>Analog- und Digitaltechnik ist ein Thema, das ...</td>\n",
       "      <td>single_hop_specifc_query_synthesizer</td>\n",
       "    </tr>\n",
       "    <tr>\n",
       "      <th>...</th>\n",
       "      <td>...</td>\n",
       "      <td>...</td>\n",
       "      <td>...</td>\n",
       "      <td>...</td>\n",
       "    </tr>\n",
       "    <tr>\n",
       "      <th>66</th>\n",
       "      <td>Wht is the Intel 8086 processor and how does i...</td>\n",
       "      <td>[&lt;1-hop&gt;\\n\\nviii INHALTSVERZEICHNIS 12 Prozess...</td>\n",
       "      <td>The Intel 8086 processor is a key component of...</td>\n",
       "      <td>multi_hop_specific_query_synthesizer</td>\n",
       "    </tr>\n",
       "    <tr>\n",
       "      <th>67</th>\n",
       "      <td>What is the significance of the Intel 8086 pro...</td>\n",
       "      <td>[&lt;1-hop&gt;\\n\\nviii INHALTSVERZEICHNIS 12 Prozess...</td>\n",
       "      <td>The Intel 8086 processor is significant as it ...</td>\n",
       "      <td>multi_hop_specific_query_synthesizer</td>\n",
       "    </tr>\n",
       "    <tr>\n",
       "      <th>68</th>\n",
       "      <td>What are the key features of the Intel 8086 pr...</td>\n",
       "      <td>[&lt;1-hop&gt;\\n\\nviii INHALTSVERZEICHNIS 12 Prozess...</td>\n",
       "      <td>The Intel 8086 processor is a significant comp...</td>\n",
       "      <td>multi_hop_specific_query_synthesizer</td>\n",
       "    </tr>\n",
       "    <tr>\n",
       "      <th>69</th>\n",
       "      <td>What are the key features of the Intel 8086 pr...</td>\n",
       "      <td>[&lt;1-hop&gt;\\n\\nviii INHALTSVERZEICHNIS 12 Prozess...</td>\n",
       "      <td>The Intel 8086 processor is a significant comp...</td>\n",
       "      <td>multi_hop_specific_query_synthesizer</td>\n",
       "    </tr>\n",
       "    <tr>\n",
       "      <th>70</th>\n",
       "      <td>What is the Intel 8086 processor and how does ...</td>\n",
       "      <td>[&lt;1-hop&gt;\\n\\nviii INHALTSVERZEICHNIS 12 Prozess...</td>\n",
       "      <td>The Intel 8086 processor is a key component of...</td>\n",
       "      <td>multi_hop_specific_query_synthesizer</td>\n",
       "    </tr>\n",
       "  </tbody>\n",
       "</table>\n",
       "<p>71 rows × 4 columns</p>\n",
       "</div>"
      ],
      "text/plain": [
       "                                           user_input  \\\n",
       "0   Was ist ein Bipolartransistor und warum ist es...   \n",
       "1   What are the key historical developments in In...   \n",
       "2   What is the significance of the Internet in th...   \n",
       "3                 Was ist Internet und warum wichtig?   \n",
       "4                 Was ist Analog- und Digitaltechnik?   \n",
       "..                                                ...   \n",
       "66  Wht is the Intel 8086 processor and how does i...   \n",
       "67  What is the significance of the Intel 8086 pro...   \n",
       "68  What are the key features of the Intel 8086 pr...   \n",
       "69  What are the key features of the Intel 8086 pr...   \n",
       "70  What is the Intel 8086 processor and how does ...   \n",
       "\n",
       "                                   reference_contexts  \\\n",
       "0   [Inhaltsverzeichnis 1 Geschichte der Informati...   \n",
       "1   [Inhaltsverzeichnis 1 Geschichte der Informati...   \n",
       "2   [Inhaltsverzeichnis 1 Geschichte der Informati...   \n",
       "3   [Inhaltsverzeichnis 1 Geschichte der Informati...   \n",
       "4   [Inhaltsverzeichnis 1 Geschichte der Informati...   \n",
       "..                                                ...   \n",
       "66  [<1-hop>\\n\\nviii INHALTSVERZEICHNIS 12 Prozess...   \n",
       "67  [<1-hop>\\n\\nviii INHALTSVERZEICHNIS 12 Prozess...   \n",
       "68  [<1-hop>\\n\\nviii INHALTSVERZEICHNIS 12 Prozess...   \n",
       "69  [<1-hop>\\n\\nviii INHALTSVERZEICHNIS 12 Prozess...   \n",
       "70  [<1-hop>\\n\\nviii INHALTSVERZEICHNIS 12 Prozess...   \n",
       "\n",
       "                                            reference  \\\n",
       "0   Der Bipolartransistor ist ein Halbleiterbauele...   \n",
       "1   The key historical developments in Informatik ...   \n",
       "2   The Internet is a crucial topic in the history...   \n",
       "3   Im Kontext der Informatik ist das Internet ein...   \n",
       "4   Analog- und Digitaltechnik ist ein Thema, das ...   \n",
       "..                                                ...   \n",
       "66  The Intel 8086 processor is a key component of...   \n",
       "67  The Intel 8086 processor is significant as it ...   \n",
       "68  The Intel 8086 processor is a significant comp...   \n",
       "69  The Intel 8086 processor is a significant comp...   \n",
       "70  The Intel 8086 processor is a key component of...   \n",
       "\n",
       "                        synthesizer_name  \n",
       "0   single_hop_specifc_query_synthesizer  \n",
       "1   single_hop_specifc_query_synthesizer  \n",
       "2   single_hop_specifc_query_synthesizer  \n",
       "3   single_hop_specifc_query_synthesizer  \n",
       "4   single_hop_specifc_query_synthesizer  \n",
       "..                                   ...  \n",
       "66  multi_hop_specific_query_synthesizer  \n",
       "67  multi_hop_specific_query_synthesizer  \n",
       "68  multi_hop_specific_query_synthesizer  \n",
       "69  multi_hop_specific_query_synthesizer  \n",
       "70  multi_hop_specific_query_synthesizer  \n",
       "\n",
       "[71 rows x 4 columns]"
      ]
     },
     "execution_count": 5,
     "metadata": {},
     "output_type": "execute_result"
    }
   ],
   "source": [
    "import pandas as pd\n",
    "file_name = 'eval/test_dataset.pkl'\n",
    "if 'dataset' in vars():\n",
    "    dataFrame = dataset.to_pandas()\n",
    "    dataFrame.to_pickle(file_name)\n",
    "else:\n",
    "    dataFrame = pd.read_pickle(file_name)\n",
    "dataFrame"
   ]
  },
  {
   "cell_type": "markdown",
   "id": "41a64e6b-abbe-4f35-baa3-652602d14232",
   "metadata": {},
   "source": [
    "## Define retrieve and query"
   ]
  },
  {
   "cell_type": "code",
   "execution_count": 6,
   "id": "b77ca95f-ac9d-4a9c-8812-c08fe360af26",
   "metadata": {},
   "outputs": [],
   "source": [
    "#from langchain.retrievers import ContextualCompressionRetriever\n",
    "#from langchain_community.document_compressors import LLMLinguaCompressor\n",
    "#compressor = LLMLinguaCompressor(model_name=\"openai-community/gpt2\", device_map=\"cpu\")\n",
    "async def query_for(query, files, k=7, score_threshold=0.1):\n",
    "    def _message_to_str(message):\n",
    "        if isinstance(message.content, str):\n",
    "            return message.content\n",
    "        text = \"\"\n",
    "        for x in message.content:\n",
    "            if isinstance(x, str):\n",
    "                text += x + \"\\n\"\n",
    "            elif isinstance(x, dict) and \"text\" in x:\n",
    "                text += x[\"text\"] + \"\\n\"\n",
    "        return text\n",
    "\n",
    "    retriever = chroma.as_retriever(\n",
    "        search_type=\"similarity_score_threshold\",\n",
    "        search_kwargs={\n",
    "            \"score_threshold\": score_threshold,\n",
    "            \"k\": k,\n",
    "        },\n",
    "        filter={\"ref_id\": {\"$in\": [f.file_ref for f in files]}},\n",
    "    )\n",
    "    #retriever = ContextualCompressionRetriever(\n",
    "    #    base_compressor=compressor, base_retriever=retriever\n",
    "    #)\n",
    "    return await retriever.ainvoke(_message_to_str(query))"
   ]
  },
  {
   "cell_type": "code",
   "execution_count": 7,
   "id": "a34f22b3-d47b-45b5-bdb0-2a024524afc5",
   "metadata": {},
   "outputs": [],
   "source": [
    "from langchain_core.prompts import (\n",
    "    ChatPromptTemplate,\n",
    "    SystemMessagePromptTemplate,\n",
    "    MessagesPlaceholder,\n",
    ")\n",
    "\n",
    "rag_template = SystemMessagePromptTemplate.from_template(\n",
    "    \"\"\"You are an assistant for question-answering tasks. Use the following pieces of retrieved context to answer the question.\n",
    "Always add citations whenever possible in the form of †[document_id]† at the end of a paragraph, inside the text, or at the end of the answer.\n",
    "When you use information from multiple documents, cite them in the order they appear, like this: †[document_id_1]† †[document_id_2]†.\n",
    "Even when the answer is based on general knowledge or reasoning, include citations from relevant documents whenever applicable.\n",
    "If you don't know the answer, just say that you don't know. Keep the answer concise and always respond in the user's language.\n",
    "\n",
    "Context: {context}\"\"\"\n",
    ")\n",
    "\n",
    "prompt = ChatPromptTemplate.from_messages(\n",
    "    [\n",
    "        MessagesPlaceholder(variable_name=\"system_messages\"),\n",
    "        MessagesPlaceholder(variable_name=\"question\"),\n",
    "    ]\n",
    ")\n",
    "async def qa(documents, query):    \n",
    "    def format_docs(docs):\n",
    "        unwanted_keys = [\"ref_id\", \"id\"]\n",
    "        return \"\\n\\n\".join(\n",
    "            f\"†[{doc.metadata['id']}, { {x: doc.metadata[x] for x in doc.metadata if x not in unwanted_keys} }]†:\\n{doc.page_content}\"\n",
    "            for doc in docs\n",
    "        )\n",
    "    system_messages = [rag_template.format(context=format_docs(documents))]\n",
    "    chain = prompt | chat_model\n",
    "    return await chain.ainvoke(\n",
    "        {\n",
    "            \"question\": [query],\n",
    "            \"system_messages\": system_messages,\n",
    "        }\n",
    "    )\n",
    "\n",
    "async def run(query):\n",
    "    docs = await query_for(query, files)\n",
    "    for d in docs:\n",
    "        if 'id' not in d.metadata:\n",
    "            d.metadata['id'] = str(uuid4())\n",
    "    response = await qa(docs, query)\n",
    "    return docs, response\n",
    "\n",
    "async def run_normal(query):\n",
    "    return await chat_model.ainvoke([query])\n"
   ]
  },
  {
   "cell_type": "code",
   "execution_count": 8,
   "id": "aadacd65-fbba-4240-8143-2e9b54f6c2ed",
   "metadata": {},
   "outputs": [
    {
     "data": {
      "application/vnd.jupyter.widget-view+json": {
       "model_id": "32bd86f998524f6386478b2a371902b8",
       "version_major": 2,
       "version_minor": 0
      },
      "text/plain": [
       "  0%|          | 0/71 [00:00<?, ?it/s]"
      ]
     },
     "metadata": {},
     "output_type": "display_data"
    },
    {
     "name": "stdout",
     "output_type": "stream",
     "text": [
      "71\n"
     ]
    }
   ],
   "source": [
    "from langchain_core.messages import HumanMessage\n",
    "from tqdm.notebook import tqdm\n",
    "import time\n",
    "\n",
    "data = []\n",
    "times = []\n",
    "length = len(dataFrame[\"user_input\"])\n",
    "for i in tqdm(range(length)):\n",
    "    x = dataFrame[\"user_input\"][i]\n",
    "    before = time.perf_counter()\n",
    "    m = await run(HumanMessage(x))\n",
    "    after = time.perf_counter()\n",
    "    data.append(m)\n",
    "    times.append(after - before)\n",
    "print(len(data))"
   ]
  },
  {
   "cell_type": "code",
   "execution_count": 9,
   "id": "cabed03a-6faa-47df-b1ff-b98240afdb5e",
   "metadata": {},
   "outputs": [
    {
     "name": "stdout",
     "output_type": "stream",
     "text": [
      "Min: 1.9484315949957818, Max: 14.854187346994877, Mean: 4.793710863719445, Median: 4.346196834987495, Variance: 4.703318374487095, Skew: 1.8123151271740308\n"
     ]
    },
    {
     "data": {
      "image/png": "[encoded data removed]",
      "text/plain": [
       "<Figure size 640x480 with 1 Axes>"
      ]
     },
     "metadata": {},
     "output_type": "display_data"
    }
   ],
   "source": [
    "from statistics import mean, median, variance\n",
    "from scipy.stats import skew\n",
    "import matplotlib.pyplot as plt\n",
    "\n",
    "print(f\"Min: {min(times)}, Max: {max(times)}, Mean: {mean(times)}, Median: {median(times)}, Variance: {variance(times)}, Skew: {skew(times)}\")\n",
    "\n",
    "\n",
    "plt.plot(times)\n",
    "plt.ylabel('Timing')\n",
    "plt.show()"
   ]
  },
  {
   "cell_type": "code",
   "execution_count": 9,
   "id": "8d7925fb-db85-4f98-88c7-4ceda9790032",
   "metadata": {},
   "outputs": [],
   "source": [
    "from ragas import EvaluationDataset\n",
    "import re\n",
    "\n",
    "def substiute_refs(output, docs):\n",
    "    regex = r\"†\\[[^†]*\\]†\"\n",
    "    content = output.content\n",
    "    new_str = \"\"\n",
    "    last_index = 0\n",
    "    matches = re.finditer(regex, content, re.MULTILINE)\n",
    "    for matchNum, match in enumerate(matches, start=1):\n",
    "        d_id = match.group()[2:match.group().index(\",\")]\n",
    "        new_str += content[last_index:match.start()]\n",
    "        for i, d in enumerate(docs):\n",
    "            if d.id == d_id:\n",
    "                new_str += f\"[{i}]\"\n",
    "                break\n",
    "        last_index = match.end()\n",
    "    new_str += content[last_index:]\n",
    "    return new_str\n",
    "\n",
    "evaluation_dataset = EvaluationDataset.from_list(\n",
    "    [\n",
    "        {\n",
    "            \"user_input\": dataFrame[\"user_input\"][i],\n",
    "            \"retrieved_contexts\": [d.page_content for d in data[i][0]],\n",
    "            \"response\": substiute_refs(data[i][1], data[i][0]),\n",
    "            \"reference\": dataFrame[\"reference\"][i],\n",
    "        } for i in range(length)\n",
    "    ]\n",
    ")"
   ]
  },
  {
   "cell_type": "markdown",
   "id": "58ae6678-bd5b-42f7-8a38-2f86f43b68cf",
   "metadata": {},
   "source": [
    "## Generate samples"
   ]
  },
  {
   "cell_type": "code",
   "execution_count": 10,
   "id": "37a1117c-4924-46b8-b1ea-e71f4fdb8e12",
   "metadata": {},
   "outputs": [
    {
     "name": "stderr",
     "output_type": "stream",
     "text": [
      "You are using a model of type HHEMv2Config to instantiate a model of type HHEMv2. This is not supported for all configurations of models and can yield errors.\n"
     ]
    },
    {
     "data": {
      "application/vnd.jupyter.widget-view+json": {
       "model_id": "c2e15145e2274fa3b33f01b7efb7b281",
       "version_major": 2,
       "version_minor": 0
      },
      "text/plain": [
       "Evaluating:   0%|          | 0/497 [00:00<?, ?it/s]"
      ]
     },
     "metadata": {},
     "output_type": "display_data"
    },
    {
     "name": "stderr",
     "output_type": "stream",
     "text": [
      "Token indices sequence length is longer than the specified maximum sequence length for this model (782 > 512). Running this sequence through the model will result in indexing errors\n"
     ]
    },
    {
     "data": {
      "text/plain": [
       "{'answer_relevancy': 0.7811, 'precision_ref': 0.2525, 'precision': 0.5128, 'recall': 0.4169, 'faithfulness': 0.6269, 'faithfulness_hhem': 0.4064, 'factual_correctness': 0.3637}"
      ]
     },
     "execution_count": 10,
     "metadata": {},
     "output_type": "execute_result"
    }
   ],
   "source": [
    "from ragas.metrics import LLMContextRecall, Faithfulness, FactualCorrectness, LLMContextPrecisionWithoutReference, LLMContextPrecisionWithReference, ResponseRelevancy, FaithfulnesswithHHEM\n",
    "from ragas import evaluate\n",
    "\n",
    "rr_scorer = ResponseRelevancy(name=\"answer_relevancy\", llm=evaluator_llm, embeddings=evaluator_embeddings)\n",
    "prec_ref_scorer = LLMContextPrecisionWithReference(name=\"precision_ref\", llm=evaluator_llm)\n",
    "prec_scorer = LLMContextPrecisionWithoutReference(name=\"precision\", llm=evaluator_llm)\n",
    "recall_scorer = LLMContextRecall(name=\"recall\", llm=evaluator_llm)\n",
    "ff_scorer = Faithfulness(name=\"faithfulness\", llm=evaluator_llm)\n",
    "ff_2_scorer = FaithfulnesswithHHEM(name=\"faithfulness_hhem\", device=\"cpu\", batch_size=10)\n",
    "fc_scorer =  FactualCorrectness(name=\"factual_correctness\", llm=evaluator_llm)\n",
    "\n",
    "results = evaluate(evaluation_dataset, metrics=[rr_scorer, prec_ref_scorer, prec_scorer, recall_scorer, ff_scorer, ff_2_scorer, fc_scorer], llm=evaluator_llm)\n",
    "results"
   ]
  },
  {
   "cell_type": "markdown",
   "id": "c589c6d2-2988-4a66-96bc-5e422f86b4fa",
   "metadata": {},
   "source": [
    "# Evaluate moderation"
   ]
  },
  {
   "cell_type": "code",
   "execution_count": 1,
   "id": "b3791dac-d9b8-4bac-9a0b-3f70634d6227",
   "metadata": {},
   "outputs": [],
   "source": [
    "import csv\n",
    "import json\n",
    "\n",
    "def transform(arr):\n",
    "    text = \"\"\n",
    "    for x in arr:\n",
    "        if type(x) == str:\n",
    "            text += x\n",
    "            continue\n",
    "        if type(x) == dict:\n",
    "            if 'attributes' in x:\n",
    "                if 'link' in x['attributes']:\n",
    "                    text += f\"[{x['insert']}]({x['attributes']['link']})\"\n",
    "                elif 'bold' in x['attributes']:\n",
    "                    text += f\"**{x['insert']}**\"\n",
    "                else:\n",
    "                    text += x['insert']\n",
    "            continue\n",
    "        print(x)\n",
    "    return text\n",
    "\n",
    "texts = []\n",
    "with open('./eval/test.csv', newline='\\n') as csvfile:\n",
    "    spamreader = csv.reader(csvfile, delimiter=',', quotechar='\"')\n",
    "    first = True\n",
    "    for row in spamreader:\n",
    "        if first:\n",
    "            first = False\n",
    "            continue\n",
    "        arr = json.loads(row[0])\n",
    "        texts.append(transform(arr))\n",
    "\n",
    "with open('./eval/badWords.txt', 'r') as f:\n",
    "    badWords = [x.strip() for x in f.readlines() if x.strip()]"
   ]
  },
  {
   "cell_type": "code",
   "execution_count": 2,
   "id": "3c79acd4-fd26-4b50-9e28-787895b707d1",
   "metadata": {},
   "outputs": [],
   "source": [
    "import re\n",
    "\n",
    "regex_str = '(' + '|'.join([re.escape(x) for x in badWords]) + ')'\n",
    "for x in texts:\n",
    "    if re.match(regex_str, x) is not None:\n",
    "        print(x)"
   ]
  },
  {
   "cell_type": "code",
   "execution_count": 3,
   "id": "fd7dde5f-e2d0-49de-9664-fce138611118",
   "metadata": {
    "collapsed": true,
    "jupyter": {
     "outputs_hidden": true
    }
   },
   "outputs": [
    {
     "name": "stderr",
     "output_type": "stream",
     "text": [
      "/home/ruben/anaconda3/envs/langchain-training/lib/python3.13/site-packages/transformers/convert_slow_tokenizer.py:561: UserWarning: The sentencepiece tokenizer that you are converting to a fast tokenizer uses the byte fallback option which is not implemented in the fast tokenizers. In practice this means that the fast version of the tokenizer can produce unknown tokens whereas the sentencepiece version would have converted these unknown tokens into a sequence of byte tokens matching the original piece of text.\n",
      "  warnings.warn(\n",
      "/home/ruben/anaconda3/envs/langchain-training/lib/python3.13/site-packages/torch/cuda/__init__.py:129: UserWarning: CUDA initialization: CUDA unknown error - this may be due to an incorrectly set up environment, e.g. changing env variable CUDA_VISIBLE_DEVICES after program start. Setting the available devices to be zero. (Triggered internally at ../c10/cuda/CUDAFunctions.cpp:108.)\n",
      "  return torch._C._cuda_getDeviceCount() > 0\n",
      "Asking to truncate to max_length but no maximum length is provided and the model has no predefined maximum length. Default to no truncation.\n"
     ]
    }
   ],
   "source": [
    "from app.routes.moderate import run_moderate\n",
    "\n",
    "results = run_moderate(texts, 'sk...')"
   ]
  },
  {
   "cell_type": "code",
   "execution_count": 4,
   "id": "455dc581-462e-4b41-b69a-51041fd63657",
   "metadata": {},
   "outputs": [
    {
     "name": "stdout",
     "output_type": "stream",
     "text": [
      "1289\n",
      "detoxify 1289\n",
      "celadon 1289\n",
      "openai 1289\n",
      "sentiment 1289\n"
     ]
    }
   ],
   "source": [
    "print(len(texts))\n",
    "for k, v in results.items():\n",
    "    print(k, len(v))"
   ]
  },
  {
   "cell_type": "code",
   "execution_count": 5,
   "id": "6d0c4cba-29c6-49cf-a2d7-5d4ee3b72787",
   "metadata": {},
   "outputs": [
    {
     "data": {
      "text/plain": [
       "[0.6888360337511548, 0.6257461084034528, 0.3659873309609396]"
      ]
     },
     "execution_count": 5,
     "metadata": {},
     "output_type": "execute_result"
    }
   ],
   "source": [
    "results['sentiment'][0]"
   ]
  },
  {
   "cell_type": "code",
   "execution_count": 52,
   "id": "b9d89650-2f2d-4386-aa92-cddc9b829a62",
   "metadata": {},
   "outputs": [],
   "source": [
    "def is_flagged(x, i):\n",
    "    if 'celadon' in x:\n",
    "        if x[\"celadon\"][i][\"Flagged\"] == \"Toxic\":\n",
    "            return True\n",
    "        \n",
    "    if 'detoxify' in x:\n",
    "        for key, v in x[\"detoxify\"][i].items():\n",
    "            if type(v) is not float:\n",
    "                continue\n",
    "            if v >= 0.6:\n",
    "                return True\n",
    "    if 'openai' in x:\n",
    "        for key, v in x[\"openai\"][i].items():\n",
    "            if type(v) is not float:\n",
    "                if key == \"flagged\" and v:\n",
    "                    return True\n",
    "                continue\n",
    "            if v > 0.4:\n",
    "                return True\n",
    "    return False"
   ]
  },
  {
   "cell_type": "code",
   "execution_count": 53,
   "id": "89b1c18a-8858-444b-b926-08b4b3634305",
   "metadata": {},
   "outputs": [
    {
     "name": "stdout",
     "output_type": "stream",
     "text": [
      "505 Sind gerostete Metalle dann gar keine Metalle mehr? Wenn man auf diese mit einem Hammer schlägt brechen sie ja auch, glanz haben diebisch nicht mehr richtig.\n",
      "\n",
      "510 CaO hat keine Angst vor Ihnen sie müssen ihre Galluskontakte spielen lassen \n",
      "\n",
      "1114 ... have 0.56 IQ points more\n",
      "\n",
      "\n"
     ]
    }
   ],
   "source": [
    "length = len(results['detoxify'])\n",
    "for i in range(length):\n",
    "    if is_flagged(results, i):\n",
    "        print(i, texts[i])"
   ]
  }
 ],
 "metadata": {
  "kernelspec": {
   "display_name": "conda-train",
   "language": "python",
   "name": "conda-train"
  },
  "language_info": {
   "codemirror_mode": {
    "name": "ipython",
    "version": 3
   },
   "file_extension": ".py",
   "mimetype": "text/x-python",
   "name": "python",
   "nbconvert_exporter": "python",
   "pygments_lexer": "ipython3",
   "version": "3.13.1"
  }
 },
 "nbformat": 4,
 "nbformat_minor": 5
}
